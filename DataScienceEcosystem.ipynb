{
 "cells": [
  {
   "cell_type": "markdown",
   "id": "62832a4f",
   "metadata": {},
   "source": [
    "# Data Science Tools and Ecosystem"
   ]
  },
  {
   "cell_type": "markdown",
   "id": "7b2e7b11",
   "metadata": {},
   "source": [
    "In this notebook, Data Science Tools and Ecosystem are summarized."
   ]
  },
  {
   "cell_type": "markdown",
   "id": "feec9ef2",
   "metadata": {},
   "source": [
    "**Objectives:**\n",
    "\n",
    "- Understand and list popular languages for Data Science.\n",
    "- Explore commonly used libraries in Data Science.\n",
    "- Create and format Markdown cells in Jupyter Notebooks.\n",
    "- Demonstrate basic arithmetic operations in Python.\n",
    "- Introduce simple conversions in Python, such as minutes to hours.\n"
   ]
  },
  {
   "cell_type": "markdown",
   "id": "a306a62e",
   "metadata": {},
   "source": [
    "Some of the popular languages that Data Scientists use are:\n",
    "1. Python\n",
    "2. R\n",
    "3. SQL"
   ]
  },
  {
   "cell_type": "markdown",
   "id": "2ac1a3fe",
   "metadata": {},
   "source": [
    "Some of the commonly used libraries used by Data Scientists include:\n",
    "1. NumPy\n",
    "2. Matplotlib\n",
    "3. pandas"
   ]
  },
  {
   "cell_type": "markdown",
   "id": "54a9f86b",
   "metadata": {},
   "source": [
    "# Data Science Tools\n",
    "\n",
    "| Development Environment |\n",
    "|-------------------------|\n",
    "| Jupyter Notebook        |\n",
    "| RStudio                 |\n",
    "| VS Code with Python     |\n"
   ]
  },
  {
   "cell_type": "markdown",
   "id": "1b725023",
   "metadata": {},
   "source": [
    "### Below are a few examples of evaluating arithmetic expressions in Python.\n"
   ]
  },
  {
   "cell_type": "code",
   "execution_count": 3,
   "id": "05558186",
   "metadata": {},
   "outputs": [
    {
     "data": {
      "text/plain": [
       "17"
      ]
     },
     "execution_count": 3,
     "metadata": {},
     "output_type": "execute_result"
    }
   ],
   "source": [
    "#  This a simple arithmetic expression to mutiply then add integers\n",
    "\n",
    "(3 * 4) + 5"
   ]
  },
  {
   "cell_type": "code",
   "execution_count": 4,
   "id": "9a356889",
   "metadata": {},
   "outputs": [
    {
     "data": {
      "text/plain": [
       "3.3333333333333335"
      ]
     },
     "execution_count": 4,
     "metadata": {},
     "output_type": "execute_result"
    }
   ],
   "source": [
    "#  This will convert 200 minutes to hours by diving by 60\n",
    "\n",
    "minutes = 200\n",
    "hours = minutes / 60\n",
    "hours"
   ]
  },
  {
   "cell_type": "markdown",
   "id": "5b696473",
   "metadata": {},
   "source": [
    "## Author\n",
    "\n",
    "Şakir Yılmaz Öğüt\n"
   ]
  }
 ],
 "metadata": {
  "kernelspec": {
   "display_name": "Python 3 (ipykernel)",
   "language": "python",
   "name": "python3"
  },
  "language_info": {
   "codemirror_mode": {
    "name": "ipython",
    "version": 3
   },
   "file_extension": ".py",
   "mimetype": "text/x-python",
   "name": "python",
   "nbconvert_exporter": "python",
   "pygments_lexer": "ipython3",
   "version": "3.9.13"
  }
 },
 "nbformat": 4,
 "nbformat_minor": 5
}
